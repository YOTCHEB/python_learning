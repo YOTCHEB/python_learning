{
 "cells": [
  {
   "cell_type": "code",
   "execution_count": 21,
   "id": "505d58bf-45a5-4136-bceb-180b1b2999b3",
   "metadata": {},
   "outputs": [
    {
     "name": "stdin",
     "output_type": "stream",
     "text": [
      " Write your massage or email :   jhvhvcj cjxvhxcjvh vxkjcvhxv \n"
     ]
    },
    {
     "name": "stdout",
     "output_type": "stream",
     "text": [
      "Number of words in the paragraph is: 4\n"
     ]
    }
   ],
   "source": [
    "user_Checking = input(\" Write your massage or email : \")\n",
    "User = 0\n",
    "for machine in user_Checking:\n",
    "    if machine == \" \":\n",
    "        User += 1\n",
    "print(f\"Number of words in the paragraph is: {User}\")"
   ]
  },
  {
   "cell_type": "code",
   "execution_count": null,
   "id": "c4da7de3-f08f-450d-8a5d-f1951862584f",
   "metadata": {},
   "outputs": [],
   "source": []
  }
 ],
 "metadata": {
  "kernelspec": {
   "display_name": "Python 3 (ipykernel)",
   "language": "python",
   "name": "python3"
  },
  "language_info": {
   "codemirror_mode": {
    "name": "ipython",
    "version": 3
   },
   "file_extension": ".py",
   "mimetype": "text/x-python",
   "name": "python",
   "nbconvert_exporter": "python",
   "pygments_lexer": "ipython3",
   "version": "3.13.2"
  }
 },
 "nbformat": 4,
 "nbformat_minor": 5
}
